{
 "cells": [
  {
   "cell_type": "code",
   "execution_count": 31,
   "id": "quiet-fashion",
   "metadata": {
    "scrolled": true
   },
   "outputs": [],
   "source": [
    "import json \n",
    "import pandas as pd\n",
    "import numpy as np\n",
    "import torch\n",
    "import torch.nn as nn\n",
    "import torch.nn.functional as F\n",
    "from torch.utils.data import Dataset, DataLoader\n",
    "from torch.cuda.amp import autocast, GradScaler\n",
    "from tqdm import tqdm\n",
    "import random\n",
    "import os\n",
    "import time\n",
    "from sklearn.model_selection import *\n",
    "from sklearn.metrics import f1_score\n",
    "from transformers import *\n",
    "import matplotlib.pyplot as plt"
   ]
  },
  {
   "cell_type": "code",
   "execution_count": 39,
   "id": "specialized-reception",
   "metadata": {},
   "outputs": [],
   "source": [
    "plt.rcParams['font.sans-serif'] = ['SimHei']  # 用来正常显示中文标签\n",
    "plt.rcParams['axes.unicode_minus'] = False  # 用来正常显示负号"
   ]
  },
  {
   "cell_type": "code",
   "execution_count": 2,
   "id": "occupational-shield",
   "metadata": {},
   "outputs": [],
   "source": [
    "CFG = {\n",
    "    'fold_num': 5,\n",
    "    'seed': 42,\n",
    "#     'model': 'hfl/chinese-macbert-base',\n",
    "    'model': 'nghuyong/ernie-1.0',\n",
    "    'max_len': 512, \n",
    "    'epochs': 5,\n",
    "    'train_bs': 30, \n",
    "    'valid_bs': 30,\n",
    "    'lr': 2e-5, \n",
    "    'num_workers': 0,\n",
    "    'accum_iter': 1, \n",
    "    'weight_decay': 1e-6, \n",
    "    'device': 0,\n",
    "}"
   ]
  },
  {
   "cell_type": "code",
   "execution_count": 3,
   "id": "organized-wisconsin",
   "metadata": {},
   "outputs": [],
   "source": [
    "def seed_everything(seed):\n",
    "    random.seed(seed)\n",
    "    os.environ['PYTHONHASHSEED'] = str(seed)\n",
    "    np.random.seed(seed)\n",
    "    torch.manual_seed(seed)\n",
    "    torch.cuda.manual_seed(seed)\n",
    "    torch.cuda.manual_seed_all(seed)\n",
    "    torch.backends.cudnn.deterministic = True\n",
    "    torch.backends.cudnn.benchmark = False\n",
    "\n",
    "seed_everything(CFG['seed'])\n",
    "\n",
    "torch.cuda.set_device(CFG['device'])\n",
    "device = torch.device('cuda' if torch.cuda.is_available() else 'cpu')"
   ]
  },
  {
   "cell_type": "code",
   "execution_count": 4,
   "id": "generic-keeping",
   "metadata": {},
   "outputs": [],
   "source": [
    "train_df =  pd.read_csv('train.csv')\n",
    "train_new_df =  pd.read_csv('train_new.csv')"
   ]
  },
  {
   "cell_type": "code",
   "execution_count": 5,
   "id": "still-michigan",
   "metadata": {},
   "outputs": [],
   "source": [
    "train_df.fillna(-1, inplace=True)\n",
    "train_new_df.fillna(-1, inplace=True)"
   ]
  },
  {
   "cell_type": "code",
   "execution_count": 20,
   "id": "simplified-defeat",
   "metadata": {},
   "outputs": [
    {
     "name": "stderr",
     "output_type": "stream",
     "text": [
      " 26%|██▌       | 43551/168714 [00:00<00:00, 143989.48it/s]"
     ]
    },
    {
     "name": "stdout",
     "output_type": "stream",
     "text": [
      "source    英国伦敦，20/21赛季英超第20轮，托特纳姆热刺VS利物浦。热刺本赛季18轮联赛是9胜6平...\n",
      "target     北京时间1月29日凌晨4时，英超联赛第20轮迎来一场强强对话，热刺坐镇主场迎战利物浦。  ...\n",
      "labelA                                                 -1.0\n",
      "labelB                                                  0.0\n",
      "type                                                     ss\n",
      "len1                                                    146\n",
      "len2                                                    150\n",
      "Name: 28327, dtype: object\n",
      "source    英国伦敦，20/21赛季英超第20轮，托特纳姆热刺VS利物浦。热刺本赛季18轮联赛是9胜6平...\n",
      "target     北京时间1月29日凌晨4时，英超联赛第20轮迎来一场强强对话，热刺坐镇主场迎战利物浦。  ...\n",
      "labelA                                                  1.0\n",
      "labelB                                                 -1.0\n",
      "type                                                     ss\n",
      "len1                                                    146\n",
      "len2                                                    150\n",
      "Name: 34125, dtype: object\n"
     ]
    },
    {
     "name": "stderr",
     "output_type": "stream",
     "text": [
      "100%|██████████| 168714/168714 [00:01<00:00, 143464.45it/s]\n"
     ]
    }
   ],
   "source": [
    "t = '英国伦敦，20/21赛季英超第20轮，托特纳姆热刺VS利物浦。热刺本赛季18轮联赛是9胜6平3负，目前积33分排名联赛第5位。'\n",
    "for i in tqdm(range(len(train_df))):\n",
    "    if t in train_df.loc[i,'source']:\n",
    "        print(train_df.loc[i])"
   ]
  },
  {
   "cell_type": "code",
   "execution_count": 25,
   "id": "thousand-reduction",
   "metadata": {},
   "outputs": [
    {
     "data": {
      "text/plain": [
       "array(['英国伦敦，20/21赛季英超第20轮，托特纳姆热刺VS利物浦。热刺本赛季18轮联赛是9胜6平3负，目前积33分排名联赛第5位。利物浦本赛季19轮联赛是9胜7平3负，目前积34分排名联赛第4位。从目前的走势来看，本场比赛从热刺的角度来讲，是非常被动的。最终，本场比赛的比分为托特纳姆热刺1-3利',\n",
       "       ' 北京时间1月29日凌晨4时，英超联赛第20轮迎来一场强强对话，热刺坐镇主场迎战利物浦。  热刺vs利物浦，比赛看点如下： 第一：热刺能否成功复仇？双方首回合，热刺客场1-2被利物浦绝杀，赛后穆里尼奥称最好的球队输了，本轮热刺主场迎战利物浦，借着红军5轮不胜的低迷状态，能否成功复仇？ 第二：利物浦近',\n",
       "       -1.0, 0.0, 'ss', 146, 150], dtype=object)"
      ]
     },
     "execution_count": 25,
     "metadata": {},
     "output_type": "execute_result"
    }
   ],
   "source": [
    "train_df.loc[28327].values"
   ]
  },
  {
   "cell_type": "code",
   "execution_count": 6,
   "id": "active-australian",
   "metadata": {},
   "outputs": [],
   "source": [
    "files = ['ernie_round1_train.npy',\n",
    "'ernie_round2_train.npy',\n",
    "'ernie_round3_train.npy',\n",
    "'maclarge_round1_train.npy',\n",
    "'maclarge_round3_train.npy',\n",
    "'macbase_round1_train.npy',\n",
    "'macbase_round2_train.npy',\n",
    "'macbase_round3_train.npy',\n",
    "]\n",
    "\n",
    "probs = []\n",
    "for file in files:\n",
    "    prob = np.load(file)\n",
    "    probs.append(prob)"
   ]
  },
  {
   "cell_type": "code",
   "execution_count": 7,
   "id": "several-italian",
   "metadata": {},
   "outputs": [],
   "source": [
    "probs = np.mean(probs,0)"
   ]
  },
  {
   "cell_type": "code",
   "execution_count": 8,
   "id": "charged-secretariat",
   "metadata": {},
   "outputs": [],
   "source": [
    "files = ['ernie_round1_train_new.npy',\n",
    "'ernie_round2_train_new.npy',\n",
    "'ernie_round3_train_new.npy',\n",
    "'maclarge_round1_train_new.npy',\n",
    "'maclarge_round3_train_new.npy',\n",
    "'macbase_round1_train_new.npy',\n",
    "'macbase_round2_train_new.npy',\n",
    "'macbase_round3_train_new.npy',\n",
    "]\n",
    "\n",
    "probs_new = []\n",
    "for file in files:\n",
    "    prob = np.load(file)\n",
    "    probs_new.append(prob)\n",
    "probs_new = np.mean(probs_new,0)"
   ]
  },
  {
   "cell_type": "code",
   "execution_count": 9,
   "id": "traditional-shannon",
   "metadata": {},
   "outputs": [
    {
     "data": {
      "text/plain": [
       "((168714, 2), (96777, 2))"
      ]
     },
     "execution_count": 9,
     "metadata": {},
     "output_type": "execute_result"
    }
   ],
   "source": [
    "probs.shape, probs_new.shape"
   ]
  },
  {
   "cell_type": "code",
   "execution_count": 10,
   "id": "ethical-venice",
   "metadata": {},
   "outputs": [],
   "source": [
    "all_probs = np.concatenate([probs, probs_new],0)"
   ]
  },
  {
   "cell_type": "code",
   "execution_count": 26,
   "id": "retired-bacteria",
   "metadata": {},
   "outputs": [],
   "source": [
    "train_df = pd.concat([train_df, train_new_df], 0).reset_index()"
   ]
  },
  {
   "cell_type": "code",
   "execution_count": 27,
   "id": "written-bridge",
   "metadata": {},
   "outputs": [],
   "source": [
    "train_df['stratify'] = 3*(train_df.labelA+1)+train_df.labelB+1"
   ]
  },
  {
   "cell_type": "code",
   "execution_count": 28,
   "id": "inclusive-canyon",
   "metadata": {},
   "outputs": [
    {
     "data": {
      "text/html": [
       "<div>\n",
       "<style scoped>\n",
       "    .dataframe tbody tr th:only-of-type {\n",
       "        vertical-align: middle;\n",
       "    }\n",
       "\n",
       "    .dataframe tbody tr th {\n",
       "        vertical-align: top;\n",
       "    }\n",
       "\n",
       "    .dataframe thead th {\n",
       "        text-align: right;\n",
       "    }\n",
       "</style>\n",
       "<table border=\"1\" class=\"dataframe\">\n",
       "  <thead>\n",
       "    <tr style=\"text-align: right;\">\n",
       "      <th></th>\n",
       "      <th>index</th>\n",
       "      <th>source</th>\n",
       "      <th>target</th>\n",
       "      <th>labelA</th>\n",
       "      <th>labelB</th>\n",
       "      <th>type</th>\n",
       "      <th>len1</th>\n",
       "      <th>len2</th>\n",
       "      <th>stratify</th>\n",
       "    </tr>\n",
       "  </thead>\n",
       "  <tbody>\n",
       "    <tr>\n",
       "      <th>0</th>\n",
       "      <td>0</td>\n",
       "      <td>谁能打破科比81分纪录？奥尼尔给出5个候选人，补充利拉德比尔！</td>\n",
       "      <td>NBA现役能入名人堂的球星很多，但是能被立铜像只有2人</td>\n",
       "      <td>0.0</td>\n",
       "      <td>-1.0</td>\n",
       "      <td>ss</td>\n",
       "      <td>31</td>\n",
       "      <td>27</td>\n",
       "      <td>3.0</td>\n",
       "    </tr>\n",
       "    <tr>\n",
       "      <th>1</th>\n",
       "      <td>1</td>\n",
       "      <td>请扩散！明天，黄金埠这些地方会停电！</td>\n",
       "      <td>生活｜这几个地方注意啦！1月12日有部分线路停电检修</td>\n",
       "      <td>0.0</td>\n",
       "      <td>-1.0</td>\n",
       "      <td>ss</td>\n",
       "      <td>18</td>\n",
       "      <td>26</td>\n",
       "      <td>3.0</td>\n",
       "    </tr>\n",
       "    <tr>\n",
       "      <th>2</th>\n",
       "      <td>2</td>\n",
       "      <td>居家健身增强免疫！（三）</td>\n",
       "      <td>原来是背影杀手#你愿意和我做朋友吗#户外健身</td>\n",
       "      <td>0.0</td>\n",
       "      <td>-1.0</td>\n",
       "      <td>ss</td>\n",
       "      <td>12</td>\n",
       "      <td>22</td>\n",
       "      <td>3.0</td>\n",
       "    </tr>\n",
       "    <tr>\n",
       "      <th>3</th>\n",
       "      <td>3</td>\n",
       "      <td>太极拳罗师傅被洋人打伤，叶问霸气复仇？</td>\n",
       "      <td>非常完美：感动！女嘉宾告白赵杰被拒绝，尹康霸气上台挽留！</td>\n",
       "      <td>0.0</td>\n",
       "      <td>-1.0</td>\n",
       "      <td>ss</td>\n",
       "      <td>19</td>\n",
       "      <td>30</td>\n",
       "      <td>3.0</td>\n",
       "    </tr>\n",
       "    <tr>\n",
       "      <th>4</th>\n",
       "      <td>4</td>\n",
       "      <td>恭喜哈登！篮网因祸得福，29+7超巨大概率复出，3换4交易方案出炉</td>\n",
       "      <td>三英缺席杜兰特，篮网迎战湖人NBA重头大戏！</td>\n",
       "      <td>1.0</td>\n",
       "      <td>-1.0</td>\n",
       "      <td>ss</td>\n",
       "      <td>33</td>\n",
       "      <td>22</td>\n",
       "      <td>6.0</td>\n",
       "    </tr>\n",
       "    <tr>\n",
       "      <th>...</th>\n",
       "      <td>...</td>\n",
       "      <td>...</td>\n",
       "      <td>...</td>\n",
       "      <td>...</td>\n",
       "      <td>...</td>\n",
       "      <td>...</td>\n",
       "      <td>...</td>\n",
       "      <td>...</td>\n",
       "      <td>...</td>\n",
       "    </tr>\n",
       "    <tr>\n",
       "      <th>265486</th>\n",
       "      <td>96772</td>\n",
       "      <td>北京时间1月9日，CBA第28轮的一场比赛率先开打，北控男篮对阵上海男篮，近期状态不错的上海...</td>\n",
       "      <td>北京时间1月13日，上海神塔董瀚麟打出大爆发一战，面对与周琦、莫泰的双塔对决，他奉献7中7...</td>\n",
       "      <td>-1.0</td>\n",
       "      <td>0.0</td>\n",
       "      <td>ll</td>\n",
       "      <td>788</td>\n",
       "      <td>652</td>\n",
       "      <td>1.0</td>\n",
       "    </tr>\n",
       "    <tr>\n",
       "      <th>265487</th>\n",
       "      <td>96773</td>\n",
       "      <td>桌球界金童玉女江宏杰、福原爱爆婚姻亮红灯。（图／翻摄自福原爱脸书） 桌球界金童玉女江宏杰、...</td>\n",
       "      <td>福原爱江宏杰 搜狐娱乐讯据台媒，福原爱与小5岁早稻田学弟约会出游，陷入不伦疑云，与江宏杰4年...</td>\n",
       "      <td>-1.0</td>\n",
       "      <td>1.0</td>\n",
       "      <td>ll</td>\n",
       "      <td>524</td>\n",
       "      <td>1142</td>\n",
       "      <td>2.0</td>\n",
       "    </tr>\n",
       "    <tr>\n",
       "      <th>265488</th>\n",
       "      <td>96774</td>\n",
       "      <td>现在的NBA联盟和之前根本不一样了，如今的联盟更加注重的是几个球星在一起联手夺冠，如果你还在...</td>\n",
       "      <td>4月3日·周六10:00 雄鹿（客）VS开拓者（主） 场外因素 字母哥和利拉德，可以说是目前...</td>\n",
       "      <td>-1.0</td>\n",
       "      <td>0.0</td>\n",
       "      <td>ll</td>\n",
       "      <td>567</td>\n",
       "      <td>593</td>\n",
       "      <td>1.0</td>\n",
       "    </tr>\n",
       "    <tr>\n",
       "      <th>265489</th>\n",
       "      <td>96775</td>\n",
       "      <td>近年来，智能技术的普及应用给人们的生活带来了便利，但也给部分老年人带来了烦恼和难题。随着中国...</td>\n",
       "      <td>科学技术的发展，在便利了年轻群体的同时，也让没能跟上步伐的老年人群体，逐渐面临“数字鸿沟”。...</td>\n",
       "      <td>-1.0</td>\n",
       "      <td>0.0</td>\n",
       "      <td>ll</td>\n",
       "      <td>1665</td>\n",
       "      <td>701</td>\n",
       "      <td>1.0</td>\n",
       "    </tr>\n",
       "    <tr>\n",
       "      <th>265490</th>\n",
       "      <td>96776</td>\n",
       "      <td>据《河北日报》微信公众号消息，1月16日，邯郸市第十五届人民代表大会常务委员会第三十次会议决...</td>\n",
       "      <td>据《新华日报》消息，1月14日上午，中国共产党的优秀党员、江苏省人大常委会原副主任、中共苏州...</td>\n",
       "      <td>-1.0</td>\n",
       "      <td>0.0</td>\n",
       "      <td>ll</td>\n",
       "      <td>1018</td>\n",
       "      <td>1172</td>\n",
       "      <td>1.0</td>\n",
       "    </tr>\n",
       "  </tbody>\n",
       "</table>\n",
       "<p>265491 rows × 9 columns</p>\n",
       "</div>"
      ],
      "text/plain": [
       "        index                                             source  \\\n",
       "0           0                    谁能打破科比81分纪录？奥尼尔给出5个候选人，补充利拉德比尔！   \n",
       "1           1                                 请扩散！明天，黄金埠这些地方会停电！   \n",
       "2           2                                       居家健身增强免疫！（三）   \n",
       "3           3                                太极拳罗师傅被洋人打伤，叶问霸气复仇？   \n",
       "4           4                  恭喜哈登！篮网因祸得福，29+7超巨大概率复出，3换4交易方案出炉   \n",
       "...       ...                                                ...   \n",
       "265486  96772  北京时间1月9日，CBA第28轮的一场比赛率先开打，北控男篮对阵上海男篮，近期状态不错的上海...   \n",
       "265487  96773   桌球界金童玉女江宏杰、福原爱爆婚姻亮红灯。（图／翻摄自福原爱脸书） 桌球界金童玉女江宏杰、...   \n",
       "265488  96774  现在的NBA联盟和之前根本不一样了，如今的联盟更加注重的是几个球星在一起联手夺冠，如果你还在...   \n",
       "265489  96775  近年来，智能技术的普及应用给人们的生活带来了便利，但也给部分老年人带来了烦恼和难题。随着中国...   \n",
       "265490  96776  据《河北日报》微信公众号消息，1月16日，邯郸市第十五届人民代表大会常务委员会第三十次会议决...   \n",
       "\n",
       "                                                   target  labelA  labelB  \\\n",
       "0                             NBA现役能入名人堂的球星很多，但是能被立铜像只有2人     0.0    -1.0   \n",
       "1                              生活｜这几个地方注意啦！1月12日有部分线路停电检修     0.0    -1.0   \n",
       "2                                  原来是背影杀手#你愿意和我做朋友吗#户外健身     0.0    -1.0   \n",
       "3                            非常完美：感动！女嘉宾告白赵杰被拒绝，尹康霸气上台挽留！     0.0    -1.0   \n",
       "4                                  三英缺席杜兰特，篮网迎战湖人NBA重头大戏！     1.0    -1.0   \n",
       "...                                                   ...     ...     ...   \n",
       "265486   北京时间1月13日，上海神塔董瀚麟打出大爆发一战，面对与周琦、莫泰的双塔对决，他奉献7中7...    -1.0     0.0   \n",
       "265487  福原爱江宏杰 搜狐娱乐讯据台媒，福原爱与小5岁早稻田学弟约会出游，陷入不伦疑云，与江宏杰4年...    -1.0     1.0   \n",
       "265488  4月3日·周六10:00 雄鹿（客）VS开拓者（主） 场外因素 字母哥和利拉德，可以说是目前...    -1.0     0.0   \n",
       "265489  科学技术的发展，在便利了年轻群体的同时，也让没能跟上步伐的老年人群体，逐渐面临“数字鸿沟”。...    -1.0     0.0   \n",
       "265490  据《新华日报》消息，1月14日上午，中国共产党的优秀党员、江苏省人大常委会原副主任、中共苏州...    -1.0     0.0   \n",
       "\n",
       "       type  len1  len2  stratify  \n",
       "0        ss    31    27       3.0  \n",
       "1        ss    18    26       3.0  \n",
       "2        ss    12    22       3.0  \n",
       "3        ss    19    30       3.0  \n",
       "4        ss    33    22       6.0  \n",
       "...     ...   ...   ...       ...  \n",
       "265486   ll   788   652       1.0  \n",
       "265487   ll   524  1142       2.0  \n",
       "265488   ll   567   593       1.0  \n",
       "265489   ll  1665   701       1.0  \n",
       "265490   ll  1018  1172       1.0  \n",
       "\n",
       "[265491 rows x 9 columns]"
      ]
     },
     "execution_count": 28,
     "metadata": {},
     "output_type": "execute_result"
    }
   ],
   "source": [
    "train_df"
   ]
  },
  {
   "cell_type": "code",
   "execution_count": 83,
   "id": "moderate-holocaust",
   "metadata": {},
   "outputs": [
    {
     "data": {
      "text/html": [
       "<div>\n",
       "<style scoped>\n",
       "    .dataframe tbody tr th:only-of-type {\n",
       "        vertical-align: middle;\n",
       "    }\n",
       "\n",
       "    .dataframe tbody tr th {\n",
       "        vertical-align: top;\n",
       "    }\n",
       "\n",
       "    .dataframe thead th {\n",
       "        text-align: right;\n",
       "    }\n",
       "</style>\n",
       "<table border=\"1\" class=\"dataframe\">\n",
       "  <thead>\n",
       "    <tr style=\"text-align: right;\">\n",
       "      <th></th>\n",
       "      <th>index</th>\n",
       "      <th>source</th>\n",
       "      <th>target</th>\n",
       "      <th>labelA</th>\n",
       "      <th>labelB</th>\n",
       "      <th>type</th>\n",
       "      <th>len1</th>\n",
       "      <th>len2</th>\n",
       "      <th>stratify</th>\n",
       "    </tr>\n",
       "  </thead>\n",
       "  <tbody>\n",
       "    <tr>\n",
       "      <th>379</th>\n",
       "      <td>379</td>\n",
       "      <td>警惕！7人感染</td>\n",
       "      <td>早知天下事</td>\n",
       "      <td>0.0</td>\n",
       "      <td>-1.0</td>\n",
       "      <td>ss</td>\n",
       "      <td>7</td>\n",
       "      <td>5</td>\n",
       "      <td>3.0</td>\n",
       "    </tr>\n",
       "    <tr>\n",
       "      <th>2301</th>\n",
       "      <td>2301</td>\n",
       "      <td>新年快乐</td>\n",
       "      <td>政已阅祝您新年快乐！</td>\n",
       "      <td>1.0</td>\n",
       "      <td>-1.0</td>\n",
       "      <td>ss</td>\n",
       "      <td>4</td>\n",
       "      <td>10</td>\n",
       "      <td>6.0</td>\n",
       "    </tr>\n",
       "    <tr>\n",
       "      <th>2616</th>\n",
       "      <td>2616</td>\n",
       "      <td>&gt;&gt;A02</td>\n",
       "      <td>戳图查看详情↑</td>\n",
       "      <td>0.0</td>\n",
       "      <td>-1.0</td>\n",
       "      <td>ss</td>\n",
       "      <td>5</td>\n",
       "      <td>7</td>\n",
       "      <td>3.0</td>\n",
       "    </tr>\n",
       "    <tr>\n",
       "      <th>3000</th>\n",
       "      <td>3000</td>\n",
       "      <td>电影里的图片</td>\n",
       "      <td>电影里的图片</td>\n",
       "      <td>1.0</td>\n",
       "      <td>-1.0</td>\n",
       "      <td>ss</td>\n",
       "      <td>6</td>\n",
       "      <td>6</td>\n",
       "      <td>6.0</td>\n",
       "    </tr>\n",
       "    <tr>\n",
       "      <th>3035</th>\n",
       "      <td>3035</td>\n",
       "      <td>电影里面的图片</td>\n",
       "      <td>电影里面的图片</td>\n",
       "      <td>1.0</td>\n",
       "      <td>-1.0</td>\n",
       "      <td>ss</td>\n",
       "      <td>7</td>\n",
       "      <td>7</td>\n",
       "      <td>6.0</td>\n",
       "    </tr>\n",
       "    <tr>\n",
       "      <th>...</th>\n",
       "      <td>...</td>\n",
       "      <td>...</td>\n",
       "      <td>...</td>\n",
       "      <td>...</td>\n",
       "      <td>...</td>\n",
       "      <td>...</td>\n",
       "      <td>...</td>\n",
       "      <td>...</td>\n",
       "      <td>...</td>\n",
       "    </tr>\n",
       "    <tr>\n",
       "      <th>191738</th>\n",
       "      <td>23024</td>\n",
       "      <td>备年货迎新春</td>\n",
       "      <td>备年货迎新春</td>\n",
       "      <td>-1.0</td>\n",
       "      <td>1.0</td>\n",
       "      <td>ss</td>\n",
       "      <td>6</td>\n",
       "      <td>6</td>\n",
       "      <td>2.0</td>\n",
       "    </tr>\n",
       "    <tr>\n",
       "      <th>192129</th>\n",
       "      <td>23415</td>\n",
       "      <td>惊蛰日，学雷锋</td>\n",
       "      <td>惊蛰日，学雷锋</td>\n",
       "      <td>-1.0</td>\n",
       "      <td>1.0</td>\n",
       "      <td>ss</td>\n",
       "      <td>7</td>\n",
       "      <td>7</td>\n",
       "      <td>2.0</td>\n",
       "    </tr>\n",
       "    <tr>\n",
       "      <th>192146</th>\n",
       "      <td>23432</td>\n",
       "      <td>兑彩票</td>\n",
       "      <td>兑彩票</td>\n",
       "      <td>-1.0</td>\n",
       "      <td>1.0</td>\n",
       "      <td>ss</td>\n",
       "      <td>3</td>\n",
       "      <td>3</td>\n",
       "      <td>2.0</td>\n",
       "    </tr>\n",
       "    <tr>\n",
       "      <th>192543</th>\n",
       "      <td>23829</td>\n",
       "      <td>发个库存照片</td>\n",
       "      <td>最后一个库存</td>\n",
       "      <td>-1.0</td>\n",
       "      <td>0.0</td>\n",
       "      <td>ss</td>\n",
       "      <td>6</td>\n",
       "      <td>8</td>\n",
       "      <td>1.0</td>\n",
       "    </tr>\n",
       "    <tr>\n",
       "      <th>192885</th>\n",
       "      <td>24171</td>\n",
       "      <td>闺蜜旅行</td>\n",
       "      <td>闺蜜旅行</td>\n",
       "      <td>-1.0</td>\n",
       "      <td>1.0</td>\n",
       "      <td>ss</td>\n",
       "      <td>4</td>\n",
       "      <td>4</td>\n",
       "      <td>2.0</td>\n",
       "    </tr>\n",
       "  </tbody>\n",
       "</table>\n",
       "<p>92 rows × 9 columns</p>\n",
       "</div>"
      ],
      "text/plain": [
       "        index   source      target  labelA  labelB type  len1  len2  stratify\n",
       "379       379  警惕！7人感染       早知天下事     0.0    -1.0   ss     7     5       3.0\n",
       "2301     2301     新年快乐  政已阅祝您新年快乐！     1.0    -1.0   ss     4    10       6.0\n",
       "2616     2616    >>A02     戳图查看详情↑     0.0    -1.0   ss     5     7       3.0\n",
       "3000     3000   电影里的图片      电影里的图片     1.0    -1.0   ss     6     6       6.0\n",
       "3035     3035  电影里面的图片     电影里面的图片     1.0    -1.0   ss     7     7       6.0\n",
       "...       ...      ...         ...     ...     ...  ...   ...   ...       ...\n",
       "191738  23024   备年货迎新春      备年货迎新春    -1.0     1.0   ss     6     6       2.0\n",
       "192129  23415  惊蛰日，学雷锋     惊蛰日，学雷锋    -1.0     1.0   ss     7     7       2.0\n",
       "192146  23432      兑彩票         兑彩票    -1.0     1.0   ss     3     3       2.0\n",
       "192543  23829   发个库存照片      最后一个库存    -1.0     0.0   ss     6     8       1.0\n",
       "192885  24171     闺蜜旅行        闺蜜旅行    -1.0     1.0   ss     4     4       2.0\n",
       "\n",
       "[92 rows x 9 columns]"
      ]
     },
     "execution_count": 83,
     "metadata": {},
     "output_type": "execute_result"
    }
   ],
   "source": [
    "train_df.query('len1+len2 < 15')"
   ]
  },
  {
   "cell_type": "code",
   "execution_count": 79,
   "id": "cheap-cleaners",
   "metadata": {},
   "outputs": [
    {
     "data": {
      "image/png": "[encoded data removed]",
      "text/plain": [
       "<Figure size 432x288 with 1 Axes>"
      ]
     },
     "metadata": {
      "needs_background": "light"
     },
     "output_type": "display_data"
    }
   ],
   "source": [
    "train_df.type.value_counts().sort_index(ascending=False).plot.bar(color=\"blue\",alpha=0.6)\n",
    "plt.xticks(range(3),['短短','短长','长长'],rotation=0)\n",
    "plt.show()"
   ]
  },
  {
   "cell_type": "code",
   "execution_count": 73,
   "id": "handmade-agriculture",
   "metadata": {},
   "outputs": [
    {
     "data": {
      "image/png": "[encoded data removed]",
      "text/plain": [
       "<Figure size 432x288 with 1 Axes>"
      ]
     },
     "metadata": {
      "needs_background": "light"
     },
     "output_type": "display_data"
    }
   ],
   "source": [
    "bar_width = 0.25\n",
    "x = np.arange(2)\n",
    "y1 = train_df.query('labelA != -1').labelA.value_counts()\n",
    "y2 = train_df.query('labelB != -1').labelB.value_counts()\n",
    "plt.bar(x,y1,bar_width,color=\"blue\",align=\"center\",label=\"A\",alpha=0.6)\n",
    "plt.bar(x+bar_width,y2,bar_width,color=\"red\",align=\"center\",label=\"B\",alpha=0.6)\n",
    "plt.xlabel(\"标签值\")\n",
    "plt.ylabel(\"数量\")\n",
    "plt.xticks(x+bar_width/2,[0,1])\n",
    "plt.legend()\n",
    "plt.show()"
   ]
  },
  {
   "cell_type": "code",
   "execution_count": 75,
   "id": "accomplished-mortgage",
   "metadata": {},
   "outputs": [
    {
     "data": {
      "image/png": "[encoded data removed]",
      "text/plain": [
       "<Figure size 432x288 with 1 Axes>"
      ]
     },
     "metadata": {
      "needs_background": "light"
     },
     "output_type": "display_data"
    },
    {
     "data": {
      "text/plain": [
       "(count    67162.000000\n",
       " mean        59.734657\n",
       " std         48.766638\n",
       " min          3.000000\n",
       " 25%         24.000000\n",
       " 50%         30.000000\n",
       " 75%        110.000000\n",
       " max        150.000000\n",
       " Name: len1, dtype: float64,\n",
       " count    67162.000000\n",
       " mean        60.190539\n",
       " std         48.455424\n",
       " min          3.000000\n",
       " 25%         24.000000\n",
       " 50%         31.000000\n",
       " 75%        110.000000\n",
       " max        150.000000\n",
       " Name: len2, dtype: float64)"
      ]
     },
     "execution_count": 75,
     "metadata": {},
     "output_type": "execute_result"
    }
   ],
   "source": [
    "train_df.query('type==\\'ss\\'').len1.plot.hist()\n",
    "\n",
    "plt.show()\n",
    "\n",
    "train_df.query('type==\\'ss\\'').len1.describe(),train_df.query('type==\\'ss\\'').len2.describe()"
   ]
  },
  {
   "cell_type": "code",
   "execution_count": 76,
   "id": "asian-province",
   "metadata": {},
   "outputs": [
    {
     "data": {
      "image/png": "[encoded data removed]",
      "text/plain": [
       "<Figure size 432x288 with 1 Axes>"
      ]
     },
     "metadata": {
      "needs_background": "light"
     },
     "output_type": "display_data"
    },
    {
     "data": {
      "text/plain": [
       "(count    99527.000000\n",
       " mean       106.265958\n",
       " std        266.909012\n",
       " min          3.000000\n",
       " 25%         26.000000\n",
       " 50%         39.000000\n",
       " 75%        128.000000\n",
       " max      25184.000000\n",
       " Name: len1, dtype: float64,\n",
       " count     99527.000000\n",
       " mean       1003.299788\n",
       " std        1282.737142\n",
       " min           4.000000\n",
       " 25%         467.000000\n",
       " 50%         783.000000\n",
       " 75%        1204.000000\n",
       " max      183608.000000\n",
       " Name: len2, dtype: float64)"
      ]
     },
     "execution_count": 76,
     "metadata": {},
     "output_type": "execute_result"
    }
   ],
   "source": [
    "train_df.query('type==\\'sl\\'').len1.plot.hist()\n",
    "# train_df.query('type==\\'ss\\'').len2.plot.hist()\n",
    "plt.show()\n",
    "\n",
    "train_df.query('type==\\'sl\\'').len1.describe(),train_df.query('type==\\'sl\\'').len2.describe()"
   ]
  },
  {
   "cell_type": "code",
   "execution_count": 77,
   "id": "hybrid-monthly",
   "metadata": {},
   "outputs": [
    {
     "data": {
      "image/png": "[encoded data removed]",
      "text/plain": [
       "<Figure size 432x288 with 1 Axes>"
      ]
     },
     "metadata": {
      "needs_background": "light"
     },
     "output_type": "display_data"
    },
    {
     "data": {
      "text/plain": [
       "(count    98802.000000\n",
       " mean      1112.845681\n",
       " std       1222.216924\n",
       " min        100.000000\n",
       " 25%        559.000000\n",
       " 50%        851.000000\n",
       " 75%       1291.000000\n",
       " max      77827.000000\n",
       " Name: len1, dtype: float64,\n",
       " count    98802.000000\n",
       " mean      1111.824568\n",
       " std       1174.277097\n",
       " min        104.000000\n",
       " 25%        555.000000\n",
       " 50%        851.000000\n",
       " 75%       1287.000000\n",
       " max      46249.000000\n",
       " Name: len2, dtype: float64)"
      ]
     },
     "execution_count": 77,
     "metadata": {},
     "output_type": "execute_result"
    }
   ],
   "source": [
    "train_df.query('type==\\'ll\\'').len1.plot.hist()\n",
    "# train_df.query('type==\\'ss\\'').len2.plot.hist()\n",
    "plt.show()\n",
    "\n",
    "train_df.query('type==\\'ll\\'').len1.describe(),train_df.query('type==\\'ll\\'').len2.describe()"
   ]
  },
  {
   "cell_type": "code",
   "execution_count": 14,
   "id": "spanish-illness",
   "metadata": {},
   "outputs": [],
   "source": [
    "tokenizer = BertTokenizer.from_pretrained(CFG['model'])"
   ]
  },
  {
   "cell_type": "code",
   "execution_count": 15,
   "id": "occupied-beijing",
   "metadata": {},
   "outputs": [],
   "source": [
    "class MyDataset(Dataset):\n",
    "    def __init__(self, dataframe, probs=None):\n",
    "        self.df = dataframe\n",
    "        self.probs = probs\n",
    "    \n",
    "    def __len__(self):\n",
    "        return len(self.df)\n",
    "    \n",
    "    def __getitem__(self, idx):\n",
    "        text1 = str(self.df.source.values[idx])\n",
    "        text2 = str(self.df.target.values[idx])\n",
    "        \n",
    "        prob = self.probs[idx]\n",
    "        \n",
    "        label1 = self.df.labelA.values[idx]\n",
    "        label2 = self.df.labelB.values[idx]\n",
    "        \n",
    "        return text1, text2, label1, label2, prob"
   ]
  },
  {
   "cell_type": "code",
   "execution_count": 16,
   "id": "derived-chile",
   "metadata": {},
   "outputs": [],
   "source": [
    "def collate_fn(data):\n",
    "    text = tokenizer([x[0] for x in data], text_pair=[x[1] for x in data], padding='max_length', truncation=True, max_length=CFG['max_len'], return_tensors='pt')\n",
    "    input_ids = text['input_ids']\n",
    "    attention_mask = text['attention_mask']\n",
    "    token_type_ids = text['token_type_ids']\n",
    "    label1 = torch.LongTensor([x[2] for x in data])\n",
    "    label2 = torch.LongTensor([x[3] for x in data])\n",
    "    prob = torch.Tensor([x[4] for x in data])\n",
    "    return input_ids, attention_mask, token_type_ids, label1, label2, prob"
   ]
  },
  {
   "cell_type": "code",
   "execution_count": 17,
   "id": "brazilian-malpractice",
   "metadata": {},
   "outputs": [],
   "source": [
    "class Model(nn.Module):\n",
    "\n",
    "    def __init__(self, CFG):\n",
    "        super(Model, self).__init__()\n",
    "        self.bert = BertModel.from_pretrained(CFG['model'])\n",
    "        self.fc1 = nn.Linear(self.bert.config.hidden_size, 2)\n",
    "        self.fc2 = nn.Linear(self.bert.config.hidden_size, 2)\n",
    " \n",
    "    def forward(self, input_ids, attention_mask, token_type_ids):\n",
    "        text = self.bert(input_ids=input_ids, attention_mask=attention_mask, token_type_ids=token_type_ids)[1]\n",
    "        y1 = self.fc1(text)\n",
    "        y2 = self.fc2(text)\n",
    "        return y1, y2"
   ]
  },
  {
   "cell_type": "code",
   "execution_count": 18,
   "id": "ready-illustration",
   "metadata": {},
   "outputs": [],
   "source": [
    "class FGM():\n",
    "    def __init__(self, model):\n",
    "        self.model = model\n",
    "        self.backup = {}\n",
    "\n",
    "    def attack(self, epsilon=0.1, emb_name='word_embeddings'):\n",
    "        for name, param in self.model.named_parameters():\n",
    "            if param.requires_grad and emb_name in name:\n",
    "                self.backup[name] = param.data.clone()\n",
    "                norm = torch.norm(param.grad)\n",
    "                if norm != 0:\n",
    "                    r_at = epsilon * param.grad / norm\n",
    "                    param.data.add_(r_at)\n",
    "\n",
    "    def restore(self, emb_name='word_embeddings'):\n",
    "        for name, param in self.model.named_parameters():\n",
    "            if param.requires_grad and emb_name in name:\n",
    "                assert name in self.backup\n",
    "                param.data = self.backup[name]\n",
    "            self.backup = {}"
   ]
  },
  {
   "cell_type": "code",
   "execution_count": 19,
   "id": "chemical-membrane",
   "metadata": {},
   "outputs": [],
   "source": [
    "class AverageMeter:\n",
    "    def __init__(self):\n",
    "        self.reset()\n",
    "\n",
    "    def reset(self):\n",
    "        self.val = 0\n",
    "        self.avg = 0\n",
    "        self.sum = 0\n",
    "        self.count = 0\n",
    "\n",
    "    def update(self, val, n=1):\n",
    "        self.val = val\n",
    "        self.sum += val * n\n",
    "        self.count += n\n",
    "        self.avg = self.sum / self.count\n",
    "        \n",
    "        \n",
    "def train_model(model, train_loader):\n",
    "    model.train() \n",
    "    fgm = FGM(model)\n",
    "    \n",
    "    losses = AverageMeter()\n",
    "    \n",
    "    optimizer.zero_grad()\n",
    "    \n",
    "    tk = tqdm(train_loader, total=len(train_loader), position=0, leave=True)\n",
    "    for step, batch in enumerate(tk):\n",
    "        input_ids, attention_mask, token_type_ids, y1, y2, prob = batch\n",
    "        \n",
    "        input_ids, attention_mask, token_type_ids = input_ids.to(device), attention_mask.to(device), token_type_ids.to(device)\n",
    "        y1, y2, prob = y1.to(device), y2.to(device), prob.to(device)\n",
    "        \n",
    "        with autocast():\n",
    "            output1, output2 = model(input_ids, attention_mask, token_type_ids)\n",
    "            loss = criterion(output1, y1) / 2 + criterion(output2, y2) / 2\n",
    "            \n",
    "            idx1 = y1>-1\n",
    "            if idx1.sum():\n",
    "                loss += nn.KLDivLoss()(F.log_softmax(output1[idx1], dim=1), prob[idx1])\n",
    "            idx2 = y2>-1\n",
    "            if idx2.sum():\n",
    "                loss += nn.KLDivLoss()(F.log_softmax(output2[idx2], dim=1), prob[idx2])\n",
    "\n",
    "        scaler.scale(loss).backward()\n",
    "        \n",
    "        # 对抗训练\n",
    "        fgm.attack() # 在embedding上添加对抗扰动\n",
    "        with autocast():\n",
    "            output1, output2 = model(input_ids, attention_mask, token_type_ids)\n",
    "            loss_adv = criterion(output1, y1) / 2 + criterion(output2, y2) / 2\n",
    "            \n",
    "            idx1 = y1>-1\n",
    "            if idx1.sum():\n",
    "                loss_adv += nn.KLDivLoss()(F.log_softmax(output1[idx1], dim=1), prob[idx1])\n",
    "            idx2 = y2>-1\n",
    "            if idx2.sum():\n",
    "                loss_adv += nn.KLDivLoss()(F.log_softmax(output2[idx2], dim=1), prob[idx2])\n",
    "        scaler.scale(loss_adv).backward() # 反向传播，并在正常的grad基础上，累加对抗训练的梯度\n",
    "        fgm.restore() # 恢复embedding参数\n",
    "\n",
    "        scaler.step(optimizer)\n",
    "        scaler.update()\n",
    "        optimizer.zero_grad() \n",
    "        scheduler.step()\n",
    "            \n",
    "        lr = optimizer.param_groups[-1]['lr']\n",
    "\n",
    "        losses.update(loss.item(), y1.size(0))\n",
    "        tk.set_postfix(loss=losses.avg, lr=lr)\n",
    "  \n",
    "    return losses.avg\n",
    "\n",
    "\n",
    "def test_model(model, val_loader):\n",
    "    model.eval()\n",
    "    \n",
    "    losses = AverageMeter()\n",
    "\n",
    "    y_truth1, y_pred1 = [], []\n",
    "    y_truth2, y_pred2 = [], []\n",
    "    \n",
    "    with torch.no_grad():\n",
    "        tk = tqdm(val_loader, total=len(val_loader), position=0, leave=True)\n",
    "        for step, (input_ids, attention_mask, token_type_ids, y1, y2, prob) in enumerate(tk):\n",
    "            input_ids, attention_mask, token_type_ids = input_ids.to(device), attention_mask.to(device), token_type_ids.to(device)\n",
    "            y1, y2, prob = y1.to(device), y2.to(device), prob.to(device)\n",
    "        \n",
    "            output1, output2 = model(input_ids, attention_mask, token_type_ids)\n",
    "            \n",
    "            loss = criterion(output1, y1) / 2 + criterion(output2, y2) / 2\n",
    "        \n",
    "            losses.update(loss.item(), y1.size(0))\n",
    "            tk.set_postfix(loss=losses.avg)\n",
    "            \n",
    "            idx1 = y1>-1\n",
    "            if idx1.sum():\n",
    "                y_truth1.extend(y1[idx1].cpu().numpy())\n",
    "                y_pred1.extend(output1[idx1].softmax(1)[:,1].cpu().numpy())\n",
    "            idx2 = y2>-1\n",
    "            if idx2.sum():\n",
    "                y_truth2.extend(y2[idx2].cpu().numpy())\n",
    "                y_pred2.extend(output2[idx2].softmax(1)[:,1].cpu().numpy())\n",
    "  \n",
    "    def best_f1(y_truth, y_pred):   \n",
    "        thresholds = []\n",
    "        for thresh in np.arange(0.4, 0.61, 0.1):\n",
    "            thresh = np.round(thresh, 2)\n",
    "            res = f1_score(y_truth, (y_pred >= thresh).astype(int))\n",
    "            thresholds.append([thresh, res])\n",
    "        thresholds.sort(key=lambda x: x[1], reverse=True)\n",
    "        best_thresh = thresholds[0][0]\n",
    "        best_score = thresholds[0][1]\n",
    "        print(thresholds)\n",
    "        return best_score\n",
    "    \n",
    "    f1 = (best_f1(y_truth1, y_pred1) + best_f1(y_truth2, y_pred2)) / 2\n",
    "       \n",
    "    return losses.avg, f1"
   ]
  },
  {
   "cell_type": "code",
   "execution_count": 20,
   "id": "portuguese-spelling",
   "metadata": {},
   "outputs": [],
   "source": [
    "def log(s):\n",
    "    with open('log.txt','a')as f:\n",
    "        f.write(str(s)+'\\n')"
   ]
  },
  {
   "cell_type": "code",
   "execution_count": 21,
   "id": "neural-houston",
   "metadata": {
    "scrolled": true
   },
   "outputs": [
    {
     "name": "stdout",
     "output_type": "stream",
     "text": [
      "0\n",
      "epoch: 0\n"
     ]
    },
    {
     "name": "stderr",
     "output_type": "stream",
     "text": [
      "  0%|          | 0/7080 [00:00<?, ?it/s]c:\\users\\admin\\appdata\\local\\programs\\python\\python37\\lib\\site-packages\\torch\\nn\\functional.py:2398: UserWarning: reduction: 'mean' divides the total loss by both the batch size and the support size.'batchmean' divides only by the batch size, and aligns with the KL div math definition.'mean' will be changed to behave the same as 'batchmean' in the next major release.\n",
      "  warnings.warn(\"reduction: 'mean' divides the total loss by both the batch size and the support size.\"\n",
      "100%|██████████| 7080/7080 [2:02:16<00:00,  1.04s/it, loss=0.392, lr=1.88e-5]  \n",
      "100%|██████████| 1770/1770 [13:06<00:00,  2.25it/s, loss=0.172]\n"
     ]
    },
    {
     "name": "stdout",
     "output_type": "stream",
     "text": [
      "[[0.4, 0.821950321234194], [0.5, 0.8079269611873134], [0.6, 0.7849070360918702]]\n",
      "[[0.4, 0.6738376127689105], [0.5, 0.6367183782240411], [0.6, 0.5911975860992613]]\n",
      "0.7478939670015523\n",
      "epoch: 1\n"
     ]
    },
    {
     "name": "stderr",
     "output_type": "stream",
     "text": [
      "  0%|          | 0/7080 [00:00<?, ?it/s]c:\\users\\admin\\appdata\\local\\programs\\python\\python37\\lib\\site-packages\\torch\\nn\\functional.py:2398: UserWarning: reduction: 'mean' divides the total loss by both the batch size and the support size.'batchmean' divides only by the batch size, and aligns with the KL div math definition.'mean' will be changed to behave the same as 'batchmean' in the next major release.\n",
      "  warnings.warn(\"reduction: 'mean' divides the total loss by both the batch size and the support size.\"\n",
      "100%|██████████| 7080/7080 [2:00:36<00:00,  1.02s/it, loss=0.326, lr=1.4e-5]   \n",
      "100%|██████████| 1770/1770 [13:04<00:00,  2.25it/s, loss=0.168]\n"
     ]
    },
    {
     "name": "stdout",
     "output_type": "stream",
     "text": [
      "[[0.4, 0.828501543766791], [0.5, 0.8208754208754209], [0.6, 0.8050059489710483]]\n",
      "[[0.4, 0.7016208812114756], [0.5, 0.6877873443116276], [0.6, 0.6553357481192532]]\n",
      "0.7650612124891333\n",
      "epoch: 2\n"
     ]
    },
    {
     "name": "stderr",
     "output_type": "stream",
     "text": [
      "  0%|          | 0/7080 [00:00<?, ?it/s]c:\\users\\admin\\appdata\\local\\programs\\python\\python37\\lib\\site-packages\\torch\\nn\\functional.py:2398: UserWarning: reduction: 'mean' divides the total loss by both the batch size and the support size.'batchmean' divides only by the batch size, and aligns with the KL div math definition.'mean' will be changed to behave the same as 'batchmean' in the next major release.\n",
      "  warnings.warn(\"reduction: 'mean' divides the total loss by both the batch size and the support size.\"\n",
      "100%|██████████| 7080/7080 [2:00:33<00:00,  1.02s/it, loss=0.286, lr=7.55e-6]  \n",
      "100%|██████████| 1770/1770 [13:05<00:00,  2.25it/s, loss=0.166]\n"
     ]
    },
    {
     "name": "stdout",
     "output_type": "stream",
     "text": [
      "[[0.4, 0.8305915156343359], [0.5, 0.8247775782131073], [0.6, 0.8097578097578096]]\n",
      "[[0.4, 0.7000964320154291], [0.5, 0.6759575773512139], [0.6, 0.6440516005733398]]\n",
      "0.7653439738248825\n",
      "epoch: 3\n"
     ]
    },
    {
     "name": "stderr",
     "output_type": "stream",
     "text": [
      "  0%|          | 0/7080 [00:00<?, ?it/s]c:\\users\\admin\\appdata\\local\\programs\\python\\python37\\lib\\site-packages\\torch\\nn\\functional.py:2398: UserWarning: reduction: 'mean' divides the total loss by both the batch size and the support size.'batchmean' divides only by the batch size, and aligns with the KL div math definition.'mean' will be changed to behave the same as 'batchmean' in the next major release.\n",
      "  warnings.warn(\"reduction: 'mean' divides the total loss by both the batch size and the support size.\"\n",
      "100%|██████████| 7080/7080 [2:00:36<00:00,  1.02s/it, loss=0.255, lr=2.11e-6]  \n",
      "100%|██████████| 1770/1770 [13:03<00:00,  2.26it/s, loss=0.166]\n"
     ]
    },
    {
     "name": "stdout",
     "output_type": "stream",
     "text": [
      "[[0.4, 0.8299972254151968], [0.5, 0.8265554683951942], [0.6, 0.8167692506348729]]\n",
      "[[0.4, 0.7026985469362651], [0.5, 0.6916088536504789], [0.6, 0.6694725530581178]]\n",
      "0.7663478861757309\n",
      "epoch: 4\n"
     ]
    },
    {
     "name": "stderr",
     "output_type": "stream",
     "text": [
      "  0%|          | 0/7080 [00:00<?, ?it/s]c:\\users\\admin\\appdata\\local\\programs\\python\\python37\\lib\\site-packages\\torch\\nn\\functional.py:2398: UserWarning: reduction: 'mean' divides the total loss by both the batch size and the support size.'batchmean' divides only by the batch size, and aligns with the KL div math definition.'mean' will be changed to behave the same as 'batchmean' in the next major release.\n",
      "  warnings.warn(\"reduction: 'mean' divides the total loss by both the batch size and the support size.\"\n",
      "100%|██████████| 7080/7080 [2:00:36<00:00,  1.02s/it, loss=0.239, lr=0]        \n",
      "100%|██████████| 1770/1770 [13:07<00:00,  2.25it/s, loss=0.167]"
     ]
    },
    {
     "name": "stdout",
     "output_type": "stream",
     "text": [
      "[[0.4, 0.8305206177360293], [0.5, 0.8245853497125367], [0.6, 0.8174586110513868]]\n",
      "[[0.4, 0.6994757843674205], [0.5, 0.6873215785054576], [0.6, 0.6638883855770973]]\n",
      "0.7649982010517249\n",
      "1\n",
      "2\n",
      "3\n",
      "4\n"
     ]
    },
    {
     "name": "stderr",
     "output_type": "stream",
     "text": [
      "\n"
     ]
    }
   ],
   "source": [
    "seed_everything(CFG['seed'])\n",
    "\n",
    "folds = StratifiedKFold(n_splits=CFG['fold_num'], shuffle=True, random_state=CFG['seed'])\\\n",
    "                    .split(np.arange(train_df.shape[0]), train_df['stratify'].values)\n",
    "\n",
    "cv = [] \n",
    "\n",
    "for fold, (trn_idx, val_idx) in enumerate(folds):\n",
    "    \n",
    "    print(fold)\n",
    "    \n",
    "    log(fold)\n",
    "    \n",
    "    if fold != 0:\n",
    "        continue\n",
    "\n",
    "    train = train_df.loc[trn_idx]\n",
    "    val = train_df.loc[val_idx]\n",
    "    \n",
    "    train_set = MyDataset(train, all_probs[trn_idx])\n",
    "    val_set = MyDataset(val, all_probs[val_idx])\n",
    "    \n",
    "    train_loader = DataLoader(train_set, batch_size=CFG['train_bs'], collate_fn=collate_fn, shuffle=True, num_workers=CFG['num_workers'])\n",
    "    val_loader = DataLoader(val_set, batch_size=CFG['valid_bs'], collate_fn=collate_fn, shuffle=False, num_workers=CFG['num_workers'])\n",
    "    \n",
    "    steps_per_epoch = len(train_loader)\n",
    "    \n",
    "    best_f1 = 0\n",
    "    \n",
    "    model =  Model(CFG).to(device)\n",
    "\n",
    "    scaler = GradScaler()\n",
    "    optimizer = AdamW(model.parameters(), lr=CFG['lr'], weight_decay=CFG['weight_decay'])\n",
    "    criterion = nn.CrossEntropyLoss(ignore_index=-1)\n",
    "    scheduler = get_cosine_schedule_with_warmup(optimizer, 0.05*CFG['epochs']*steps_per_epoch, CFG['epochs']*steps_per_epoch)\n",
    "\n",
    "    for epoch in range(CFG['epochs']):\n",
    "\n",
    "        print('epoch:',epoch)\n",
    "        time.sleep(0.2)\n",
    "\n",
    "        train_loss = train_model(model, train_loader)\n",
    "        val_loss, val_f1 = test_model(model, val_loader)\n",
    "        \n",
    "        print(val_f1)\n",
    "        log(val_f1)\n",
    "        \n",
    "        if val_f1 > best_f1:\n",
    "            best_f1 = val_f1\n",
    "            torch.save(model.state_dict(), '{}_fold_{}.pt'.format(CFG['model'].split('/')[-1], fold))\n",
    "            \n",
    "    cv.append(best_f1) "
   ]
  },
  {
   "cell_type": "code",
   "execution_count": 22,
   "id": "desirable-continent",
   "metadata": {},
   "outputs": [
    {
     "data": {
      "text/plain": [
       "[0.7663478861757309]"
      ]
     },
     "execution_count": 22,
     "metadata": {},
     "output_type": "execute_result"
    }
   ],
   "source": [
    "cv"
   ]
  },
  {
   "cell_type": "code",
   "execution_count": null,
   "id": "incorporated-opinion",
   "metadata": {},
   "outputs": [],
   "source": [
    "np.mean(cv)"
   ]
  },
  {
   "cell_type": "code",
   "execution_count": 23,
   "id": "ready-interval",
   "metadata": {},
   "outputs": [
    {
     "name": "stdout",
     "output_type": "stream",
     "text": [
      "epoch: 0\n"
     ]
    },
    {
     "name": "stderr",
     "output_type": "stream",
     "text": [
      "  0%|          | 0/8850 [00:00<?, ?it/s]c:\\users\\admin\\appdata\\local\\programs\\python\\python37\\lib\\site-packages\\torch\\nn\\functional.py:2398: UserWarning: reduction: 'mean' divides the total loss by both the batch size and the support size.'batchmean' divides only by the batch size, and aligns with the KL div math definition.'mean' will be changed to behave the same as 'batchmean' in the next major release.\n",
      "  warnings.warn(\"reduction: 'mean' divides the total loss by both the batch size and the support size.\"\n",
      "100%|██████████| 8850/8850 [3:33:51<00:00,  1.45s/it, loss=0.388, lr=1.88e-5]  \n"
     ]
    },
    {
     "name": "stdout",
     "output_type": "stream",
     "text": [
      "epoch: 1\n"
     ]
    },
    {
     "name": "stderr",
     "output_type": "stream",
     "text": [
      "100%|██████████| 8850/8850 [2:34:41<00:00,  1.05s/it, loss=0.325, lr=1.4e-5]   \n"
     ]
    },
    {
     "name": "stdout",
     "output_type": "stream",
     "text": [
      "epoch: 2\n"
     ]
    },
    {
     "name": "stderr",
     "output_type": "stream",
     "text": [
      "100%|██████████| 8850/8850 [2:36:16<00:00,  1.06s/it, loss=0.288, lr=7.55e-6]  \n"
     ]
    },
    {
     "name": "stdout",
     "output_type": "stream",
     "text": [
      "epoch: 3\n"
     ]
    },
    {
     "name": "stderr",
     "output_type": "stream",
     "text": [
      "100%|██████████| 8850/8850 [2:36:57<00:00,  1.06s/it, loss=0.262, lr=2.11e-6]  \n"
     ]
    }
   ],
   "source": [
    "seed_everything(CFG['seed'])\n",
    "\n",
    "\n",
    "train_set = MyDataset(train_df, all_probs)\n",
    "\n",
    "train_loader = DataLoader(train_set, batch_size=CFG['train_bs'], collate_fn=collate_fn, shuffle=True, num_workers=CFG['num_workers'])\n",
    "\n",
    "steps_per_epoch = len(train_loader)\n",
    "\n",
    "model =  Model(CFG).to(device)\n",
    "\n",
    "scaler = GradScaler()\n",
    "optimizer = AdamW(model.parameters(), lr=CFG['lr'], weight_decay=CFG['weight_decay'])\n",
    "criterion = nn.CrossEntropyLoss(ignore_index=-1)\n",
    "scheduler = get_cosine_schedule_with_warmup(optimizer, 0.05*CFG['epochs']*steps_per_epoch, CFG['epochs']*steps_per_epoch)\n",
    "\n",
    "for epoch in range(4):\n",
    "\n",
    "    print('epoch:',epoch)\n",
    "    time.sleep(0.2)\n",
    "\n",
    "    train_loss = train_model(model, train_loader)\n",
    "    \n",
    "    torch.save(model.state_dict(), '{}_full_epoch_{}.pt'.format(CFG['model'].split('/')[-1], epoch))"
   ]
  },
  {
   "cell_type": "code",
   "execution_count": 25,
   "id": "miniature-cedar",
   "metadata": {},
   "outputs": [
    {
     "name": "stdout",
     "output_type": "stream",
     "text": [
      "epoch: 0\n"
     ]
    },
    {
     "name": "stderr",
     "output_type": "stream",
     "text": [
      "100%|██████████| 8850/8850 [2:46:47<00:00,  1.13s/it, loss=0.394, lr=1.88e-5]  \n"
     ]
    },
    {
     "name": "stdout",
     "output_type": "stream",
     "text": [
      "epoch: 1\n"
     ]
    },
    {
     "name": "stderr",
     "output_type": "stream",
     "text": [
      "100%|██████████| 8850/8850 [2:42:56<00:00,  1.10s/it, loss=0.326, lr=1.4e-5]   \n"
     ]
    },
    {
     "name": "stdout",
     "output_type": "stream",
     "text": [
      "epoch: 2\n"
     ]
    },
    {
     "name": "stderr",
     "output_type": "stream",
     "text": [
      "100%|██████████| 8850/8850 [2:42:46<00:00,  1.10s/it, loss=0.283, lr=7.55e-6]  \n"
     ]
    },
    {
     "name": "stdout",
     "output_type": "stream",
     "text": [
      "epoch: 3\n"
     ]
    },
    {
     "name": "stderr",
     "output_type": "stream",
     "text": [
      "100%|██████████| 8850/8850 [2:43:10<00:00,  1.11s/it, loss=0.248, lr=2.11e-6]  \n"
     ]
    }
   ],
   "source": [
    "CFG = {\n",
    "    'fold_num': 5,\n",
    "    'seed': 42,\n",
    "    'model': 'hfl/chinese-macbert-base',\n",
    "#     'model': 'nghuyong/ernie-1.0',\n",
    "    'max_len': 512, \n",
    "    'epochs': 5,\n",
    "    'train_bs': 30, \n",
    "    'valid_bs': 30,\n",
    "    'lr': 2e-5, \n",
    "    'num_workers': 0,\n",
    "    'accum_iter': 1, \n",
    "    'weight_decay': 1e-6, \n",
    "    'device': 0,\n",
    "}\n",
    "tokenizer = BertTokenizer.from_pretrained(CFG['model'])\n",
    "\n",
    "seed_everything(CFG['seed'])\n",
    "\n",
    "\n",
    "train_set = MyDataset(train_df, all_probs)\n",
    "\n",
    "train_loader = DataLoader(train_set, batch_size=CFG['train_bs'], collate_fn=collate_fn, shuffle=True, num_workers=CFG['num_workers'])\n",
    "\n",
    "steps_per_epoch = len(train_loader)\n",
    "\n",
    "model =  Model(CFG).to(device)\n",
    "\n",
    "scaler = GradScaler()\n",
    "optimizer = AdamW(model.parameters(), lr=CFG['lr'], weight_decay=CFG['weight_decay'])\n",
    "criterion = nn.CrossEntropyLoss(ignore_index=-1)\n",
    "scheduler = get_cosine_schedule_with_warmup(optimizer, 0.05*CFG['epochs']*steps_per_epoch, CFG['epochs']*steps_per_epoch)\n",
    "\n",
    "for epoch in range(4):\n",
    "\n",
    "    print('epoch:',epoch)\n",
    "    time.sleep(0.2)\n",
    "\n",
    "    train_loss = train_model(model, train_loader)\n",
    "    \n",
    "    torch.save(model.state_dict(), '{}_full_epoch_{}.pt'.format(CFG['model'].split('/')[-1], epoch))"
   ]
  },
  {
   "cell_type": "code",
   "execution_count": null,
   "id": "extended-advice",
   "metadata": {},
   "outputs": [
    {
     "name": "stdout",
     "output_type": "stream",
     "text": [
      "epoch: 0\n"
     ]
    },
    {
     "name": "stderr",
     "output_type": "stream",
     "text": [
      "  0%|          | 0/33187 [00:00<?, ?it/s]c:\\users\\admin\\appdata\\local\\programs\\python\\python37\\lib\\site-packages\\torch\\nn\\functional.py:2398: UserWarning: reduction: 'mean' divides the total loss by both the batch size and the support size.'batchmean' divides only by the batch size, and aligns with the KL div math definition.'mean' will be changed to behave the same as 'batchmean' in the next major release.\n",
      "  warnings.warn(\"reduction: 'mean' divides the total loss by both the batch size and the support size.\"\n",
      "  3%|▎         | 915/33187 [13:21<8:07:18,  1.10it/s, loss=0.864, lr=1.1e-6] "
     ]
    }
   ],
   "source": [
    "CFG = {\n",
    "    'fold_num': 5,\n",
    "    'seed': 42,\n",
    "    'model': 'hfl/chinese-macbert-large',\n",
    "#     'model': 'nghuyong/ernie-1.0',\n",
    "    'max_len': 512, \n",
    "    'epochs': 5,\n",
    "    'train_bs': 8, \n",
    "    'valid_bs': 8,\n",
    "    'lr': 1e-5, \n",
    "    'num_workers': 0,\n",
    "    'accum_iter': 1, \n",
    "    'weight_decay': 1e-6, \n",
    "    'device': 0,\n",
    "}\n",
    "tokenizer = BertTokenizer.from_pretrained(CFG['model'])\n",
    "\n",
    "seed_everything(CFG['seed'])\n",
    "\n",
    "\n",
    "train_set = MyDataset(train_df, all_probs)\n",
    "\n",
    "train_loader = DataLoader(train_set, batch_size=CFG['train_bs'], collate_fn=collate_fn, shuffle=True, num_workers=CFG['num_workers'])\n",
    "\n",
    "steps_per_epoch = len(train_loader)\n",
    "\n",
    "model =  Model(CFG).to(device)\n",
    "\n",
    "scaler = GradScaler()\n",
    "optimizer = AdamW(model.parameters(), lr=CFG['lr'], weight_decay=CFG['weight_decay'])\n",
    "criterion = nn.CrossEntropyLoss(ignore_index=-1)\n",
    "scheduler = get_cosine_schedule_with_warmup(optimizer, 0.05*CFG['epochs']*steps_per_epoch, CFG['epochs']*steps_per_epoch)\n",
    "\n",
    "for epoch in range(4):\n",
    "\n",
    "    print('epoch:',epoch)\n",
    "    time.sleep(0.2)\n",
    "\n",
    "    train_loss = train_model(model, train_loader)\n",
    "    \n",
    "    torch.save(model.state_dict(), '{}_full_epoch_{}.pt'.format(CFG['model'].split('/')[-1], epoch))"
   ]
  },
  {
   "cell_type": "code",
   "execution_count": null,
   "id": "respiratory-suspect",
   "metadata": {},
   "outputs": [],
   "source": []
  }
 ],
 "metadata": {
  "kernelspec": {
   "display_name": "Python 3",
   "language": "python",
   "name": "python3"
  },
  "language_info": {
   "codemirror_mode": {
    "name": "ipython",
    "version": 3
   },
   "file_extension": ".py",
   "mimetype": "text/x-python",
   "name": "python",
   "nbconvert_exporter": "python",
   "pygments_lexer": "ipython3",
   "version": "3.7.9"
  }
 },
 "nbformat": 4,
 "nbformat_minor": 5
}
